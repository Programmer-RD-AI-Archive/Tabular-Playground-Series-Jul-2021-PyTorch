{
 "cells": [
  {
   "cell_type": "code",
   "execution_count": 1,
   "id": "c625907b-80ed-47b2-a2c2-f8aed1141767",
   "metadata": {},
   "outputs": [],
   "source": [
    "# Load data\n",
    "# Clean data\n",
    "# Feature Enginnering\n",
    "# Visualizing\n",
    "# Modelling\n",
    "# Predict to test data\n",
    "# Submit"
   ]
  },
  {
   "cell_type": "code",
   "execution_count": 2,
   "id": "19ade333-dc7c-4f68-af15-47af7fced296",
   "metadata": {},
   "outputs": [
    {
     "output_type": "stream",
     "name": "stdout",
     "text": [
      "00.ipynb  data\tsample_submission.csv  sub-0.csv  test.csv  train.csv  wandb\n"
     ]
    }
   ],
   "source": [
    "!ls"
   ]
  },
  {
   "cell_type": "code",
   "execution_count": 3,
   "id": "0cae9cba-d9b1-492f-8251-88cbdb3f885e",
   "metadata": {},
   "outputs": [],
   "source": [
    "# Imports"
   ]
  },
  {
   "cell_type": "code",
   "execution_count": 4,
   "id": "1c5f037a-79a6-4d67-a9ca-8d873f4a931a",
   "metadata": {},
   "outputs": [],
   "source": [
    "import torch,torchvision\n",
    "import torch.nn as nn\n",
    "import torch.optim as optim\n",
    "import matplotlib.pyplot as plt\n",
    "import numpy as np\n",
    "import pandas as pd\n",
    "import wandb\n",
    "from ray import tune"
   ]
  },
  {
   "cell_type": "code",
   "execution_count": 5,
   "id": "c055a678-a170-4541-8143-722d018c5009",
   "metadata": {},
   "outputs": [],
   "source": [
    "# Load data"
   ]
  },
  {
   "cell_type": "code",
   "execution_count": 6,
   "id": "d0dbc2ce-77a1-431e-8811-53711e2cb8b4",
   "metadata": {},
   "outputs": [
    {
     "output_type": "stream",
     "name": "stdout",
     "text": [
      "tabular-playground-series-jul-2021.zip\n"
     ]
    }
   ],
   "source": [
    "!ls ./data/"
   ]
  },
  {
   "cell_type": "code",
   "execution_count": 7,
   "id": "9dcf85cd-a841-4cf4-aed7-569c3db041e9",
   "metadata": {},
   "outputs": [],
   "source": [
    "# !unzip ./data/tabular-playground-series-jul-2021.zip"
   ]
  },
  {
   "cell_type": "code",
   "execution_count": 8,
   "id": "5124f27f-f8c0-473a-ad75-b2c9ecf21267",
   "metadata": {},
   "outputs": [],
   "source": [
    "test_df = pd.read_csv('./test.csv')\n",
    "data = pd.read_csv('./train.csv')\n",
    "sample_submission = pd.read_csv('./sample_submission.csv')"
   ]
  },
  {
   "cell_type": "code",
   "execution_count": 9,
   "id": "df9cd456-b9fe-43a8-b095-2dfe5d8fe81e",
   "metadata": {},
   "outputs": [],
   "source": [
    "# Clean data"
   ]
  },
  {
   "cell_type": "code",
   "execution_count": 10,
   "id": "108619b2-b4f8-43f5-8ddf-0d4ddbe60e9d",
   "metadata": {},
   "outputs": [
    {
     "output_type": "execute_result",
     "data": {
      "text/plain": [
       "             date_time  deg_C  relative_humidity  absolute_humidity  sensor_1  \\\n",
       "0  2010-03-10 18:00:00   13.1               46.0             0.7578    1387.2   \n",
       "1  2010-03-10 19:00:00   13.2               45.3             0.7255    1279.1   \n",
       "2  2010-03-10 20:00:00   12.6               56.2             0.7502    1331.9   \n",
       "3  2010-03-10 21:00:00   11.0               62.4             0.7867    1321.0   \n",
       "4  2010-03-10 22:00:00   11.9               59.0             0.7888    1272.0   \n",
       "\n",
       "   sensor_2  sensor_3  sensor_4  sensor_5  target_carbon_monoxide  \\\n",
       "0    1087.8    1056.0    1742.8    1293.4                     2.5   \n",
       "1     888.2    1197.5    1449.9    1010.9                     2.1   \n",
       "2     929.6    1060.2    1586.1    1117.0                     2.2   \n",
       "3     929.0    1102.9    1536.5    1263.2                     2.2   \n",
       "4     852.7    1180.9    1415.5    1132.2                     1.5   \n",
       "\n",
       "   target_benzene  target_nitrogen_oxides  \n",
       "0            12.0                   167.7  \n",
       "1             9.9                    98.9  \n",
       "2             9.2                   127.1  \n",
       "3             9.7                   177.2  \n",
       "4             6.4                   121.8  "
      ],
      "text/html": "<div>\n<style scoped>\n    .dataframe tbody tr th:only-of-type {\n        vertical-align: middle;\n    }\n\n    .dataframe tbody tr th {\n        vertical-align: top;\n    }\n\n    .dataframe thead th {\n        text-align: right;\n    }\n</style>\n<table border=\"1\" class=\"dataframe\">\n  <thead>\n    <tr style=\"text-align: right;\">\n      <th></th>\n      <th>date_time</th>\n      <th>deg_C</th>\n      <th>relative_humidity</th>\n      <th>absolute_humidity</th>\n      <th>sensor_1</th>\n      <th>sensor_2</th>\n      <th>sensor_3</th>\n      <th>sensor_4</th>\n      <th>sensor_5</th>\n      <th>target_carbon_monoxide</th>\n      <th>target_benzene</th>\n      <th>target_nitrogen_oxides</th>\n    </tr>\n  </thead>\n  <tbody>\n    <tr>\n      <th>0</th>\n      <td>2010-03-10 18:00:00</td>\n      <td>13.1</td>\n      <td>46.0</td>\n      <td>0.7578</td>\n      <td>1387.2</td>\n      <td>1087.8</td>\n      <td>1056.0</td>\n      <td>1742.8</td>\n      <td>1293.4</td>\n      <td>2.5</td>\n      <td>12.0</td>\n      <td>167.7</td>\n    </tr>\n    <tr>\n      <th>1</th>\n      <td>2010-03-10 19:00:00</td>\n      <td>13.2</td>\n      <td>45.3</td>\n      <td>0.7255</td>\n      <td>1279.1</td>\n      <td>888.2</td>\n      <td>1197.5</td>\n      <td>1449.9</td>\n      <td>1010.9</td>\n      <td>2.1</td>\n      <td>9.9</td>\n      <td>98.9</td>\n    </tr>\n    <tr>\n      <th>2</th>\n      <td>2010-03-10 20:00:00</td>\n      <td>12.6</td>\n      <td>56.2</td>\n      <td>0.7502</td>\n      <td>1331.9</td>\n      <td>929.6</td>\n      <td>1060.2</td>\n      <td>1586.1</td>\n      <td>1117.0</td>\n      <td>2.2</td>\n      <td>9.2</td>\n      <td>127.1</td>\n    </tr>\n    <tr>\n      <th>3</th>\n      <td>2010-03-10 21:00:00</td>\n      <td>11.0</td>\n      <td>62.4</td>\n      <td>0.7867</td>\n      <td>1321.0</td>\n      <td>929.0</td>\n      <td>1102.9</td>\n      <td>1536.5</td>\n      <td>1263.2</td>\n      <td>2.2</td>\n      <td>9.7</td>\n      <td>177.2</td>\n    </tr>\n    <tr>\n      <th>4</th>\n      <td>2010-03-10 22:00:00</td>\n      <td>11.9</td>\n      <td>59.0</td>\n      <td>0.7888</td>\n      <td>1272.0</td>\n      <td>852.7</td>\n      <td>1180.9</td>\n      <td>1415.5</td>\n      <td>1132.2</td>\n      <td>1.5</td>\n      <td>6.4</td>\n      <td>121.8</td>\n    </tr>\n  </tbody>\n</table>\n</div>"
     },
     "metadata": {},
     "execution_count": 10
    }
   ],
   "source": [
    "data.head()"
   ]
  },
  {
   "cell_type": "code",
   "execution_count": 11,
   "id": "f4e0505c-11cd-408d-a364-597957b8624c",
   "metadata": {},
   "outputs": [
    {
     "output_type": "execute_result",
     "data": {
      "text/plain": [
       "date_time                 0\n",
       "deg_C                     0\n",
       "relative_humidity         0\n",
       "absolute_humidity         0\n",
       "sensor_1                  0\n",
       "sensor_2                  0\n",
       "sensor_3                  0\n",
       "sensor_4                  0\n",
       "sensor_5                  0\n",
       "target_carbon_monoxide    0\n",
       "target_benzene            0\n",
       "target_nitrogen_oxides    0\n",
       "dtype: int64"
      ]
     },
     "metadata": {},
     "execution_count": 11
    }
   ],
   "source": [
    "data.isna().sum()"
   ]
  },
  {
   "cell_type": "code",
   "execution_count": 12,
   "id": "9c1d7caa-c95e-4086-865b-f5e01f155cf2",
   "metadata": {},
   "outputs": [
    {
     "output_type": "execute_result",
     "data": {
      "text/plain": [
       "date_time                  object\n",
       "deg_C                     float64\n",
       "relative_humidity         float64\n",
       "absolute_humidity         float64\n",
       "sensor_1                  float64\n",
       "sensor_2                  float64\n",
       "sensor_3                  float64\n",
       "sensor_4                  float64\n",
       "sensor_5                  float64\n",
       "target_carbon_monoxide    float64\n",
       "target_benzene            float64\n",
       "target_nitrogen_oxides    float64\n",
       "dtype: object"
      ]
     },
     "metadata": {},
     "execution_count": 12
    }
   ],
   "source": [
    "data.dtypes"
   ]
  },
  {
   "cell_type": "code",
   "execution_count": 13,
   "id": "9010df49-2782-438d-8cf3-435794a3ad72",
   "metadata": {},
   "outputs": [
    {
     "output_type": "execute_result",
     "data": {
      "text/plain": [
       "7111"
      ]
     },
     "metadata": {},
     "execution_count": 13
    }
   ],
   "source": [
    "len(data)"
   ]
  },
  {
   "cell_type": "code",
   "execution_count": 14,
   "id": "f8d5ef41-61cd-43e7-af5f-4309cef1e471",
   "metadata": {},
   "outputs": [],
   "source": [
    "dates = []\n",
    "times = []\n",
    "for date_time in data['date_time']:\n",
    "    date,time = date_time.split(' ')\n",
    "    time = time.replace(':','')\n",
    "    date = date.replace('-','')\n",
    "    dates.append(date)\n",
    "    times.append(time)"
   ]
  },
  {
   "cell_type": "code",
   "execution_count": 15,
   "id": "82de29aa-2b56-4d2c-a64f-93e02d14c417",
   "metadata": {},
   "outputs": [],
   "source": [
    "data = data.drop('date_time',axis=1)"
   ]
  },
  {
   "cell_type": "code",
   "execution_count": 16,
   "id": "6d5aeeab-aed0-4e8a-b099-187418aa40f8",
   "metadata": {},
   "outputs": [],
   "source": [
    "data['date'] = dates"
   ]
  },
  {
   "cell_type": "code",
   "execution_count": 17,
   "id": "e76607c2-e801-4556-a954-dbcdf4488a30",
   "metadata": {},
   "outputs": [],
   "source": [
    "data['time'] = times"
   ]
  },
  {
   "cell_type": "code",
   "execution_count": 18,
   "id": "ae2c8cb0-9c3c-4abc-adb3-a4d31daaae3f",
   "metadata": {},
   "outputs": [
    {
     "output_type": "execute_result",
     "data": {
      "text/plain": [
       "   deg_C  relative_humidity  absolute_humidity  sensor_1  sensor_2  sensor_3  \\\n",
       "0   13.1               46.0             0.7578    1387.2    1087.8    1056.0   \n",
       "1   13.2               45.3             0.7255    1279.1     888.2    1197.5   \n",
       "2   12.6               56.2             0.7502    1331.9     929.6    1060.2   \n",
       "3   11.0               62.4             0.7867    1321.0     929.0    1102.9   \n",
       "4   11.9               59.0             0.7888    1272.0     852.7    1180.9   \n",
       "\n",
       "   sensor_4  sensor_5  target_carbon_monoxide  target_benzene  \\\n",
       "0    1742.8    1293.4                     2.5            12.0   \n",
       "1    1449.9    1010.9                     2.1             9.9   \n",
       "2    1586.1    1117.0                     2.2             9.2   \n",
       "3    1536.5    1263.2                     2.2             9.7   \n",
       "4    1415.5    1132.2                     1.5             6.4   \n",
       "\n",
       "   target_nitrogen_oxides      date    time  \n",
       "0                   167.7  20100310  180000  \n",
       "1                    98.9  20100310  190000  \n",
       "2                   127.1  20100310  200000  \n",
       "3                   177.2  20100310  210000  \n",
       "4                   121.8  20100310  220000  "
      ],
      "text/html": "<div>\n<style scoped>\n    .dataframe tbody tr th:only-of-type {\n        vertical-align: middle;\n    }\n\n    .dataframe tbody tr th {\n        vertical-align: top;\n    }\n\n    .dataframe thead th {\n        text-align: right;\n    }\n</style>\n<table border=\"1\" class=\"dataframe\">\n  <thead>\n    <tr style=\"text-align: right;\">\n      <th></th>\n      <th>deg_C</th>\n      <th>relative_humidity</th>\n      <th>absolute_humidity</th>\n      <th>sensor_1</th>\n      <th>sensor_2</th>\n      <th>sensor_3</th>\n      <th>sensor_4</th>\n      <th>sensor_5</th>\n      <th>target_carbon_monoxide</th>\n      <th>target_benzene</th>\n      <th>target_nitrogen_oxides</th>\n      <th>date</th>\n      <th>time</th>\n    </tr>\n  </thead>\n  <tbody>\n    <tr>\n      <th>0</th>\n      <td>13.1</td>\n      <td>46.0</td>\n      <td>0.7578</td>\n      <td>1387.2</td>\n      <td>1087.8</td>\n      <td>1056.0</td>\n      <td>1742.8</td>\n      <td>1293.4</td>\n      <td>2.5</td>\n      <td>12.0</td>\n      <td>167.7</td>\n      <td>20100310</td>\n      <td>180000</td>\n    </tr>\n    <tr>\n      <th>1</th>\n      <td>13.2</td>\n      <td>45.3</td>\n      <td>0.7255</td>\n      <td>1279.1</td>\n      <td>888.2</td>\n      <td>1197.5</td>\n      <td>1449.9</td>\n      <td>1010.9</td>\n      <td>2.1</td>\n      <td>9.9</td>\n      <td>98.9</td>\n      <td>20100310</td>\n      <td>190000</td>\n    </tr>\n    <tr>\n      <th>2</th>\n      <td>12.6</td>\n      <td>56.2</td>\n      <td>0.7502</td>\n      <td>1331.9</td>\n      <td>929.6</td>\n      <td>1060.2</td>\n      <td>1586.1</td>\n      <td>1117.0</td>\n      <td>2.2</td>\n      <td>9.2</td>\n      <td>127.1</td>\n      <td>20100310</td>\n      <td>200000</td>\n    </tr>\n    <tr>\n      <th>3</th>\n      <td>11.0</td>\n      <td>62.4</td>\n      <td>0.7867</td>\n      <td>1321.0</td>\n      <td>929.0</td>\n      <td>1102.9</td>\n      <td>1536.5</td>\n      <td>1263.2</td>\n      <td>2.2</td>\n      <td>9.7</td>\n      <td>177.2</td>\n      <td>20100310</td>\n      <td>210000</td>\n    </tr>\n    <tr>\n      <th>4</th>\n      <td>11.9</td>\n      <td>59.0</td>\n      <td>0.7888</td>\n      <td>1272.0</td>\n      <td>852.7</td>\n      <td>1180.9</td>\n      <td>1415.5</td>\n      <td>1132.2</td>\n      <td>1.5</td>\n      <td>6.4</td>\n      <td>121.8</td>\n      <td>20100310</td>\n      <td>220000</td>\n    </tr>\n  </tbody>\n</table>\n</div>"
     },
     "metadata": {},
     "execution_count": 18
    }
   ],
   "source": [
    "data.head()"
   ]
  },
  {
   "cell_type": "code",
   "execution_count": 19,
   "id": "8a8c335f-c687-4b91-9cc2-9ae70bdbb95e",
   "metadata": {},
   "outputs": [
    {
     "output_type": "execute_result",
     "data": {
      "text/plain": [
       "deg_C                     float64\n",
       "relative_humidity         float64\n",
       "absolute_humidity         float64\n",
       "sensor_1                  float64\n",
       "sensor_2                  float64\n",
       "sensor_3                  float64\n",
       "sensor_4                  float64\n",
       "sensor_5                  float64\n",
       "target_carbon_monoxide    float64\n",
       "target_benzene            float64\n",
       "target_nitrogen_oxides    float64\n",
       "date                       object\n",
       "time                       object\n",
       "dtype: object"
      ]
     },
     "metadata": {},
     "execution_count": 19
    }
   ],
   "source": [
    "data.dtypes"
   ]
  },
  {
   "cell_type": "code",
   "execution_count": 20,
   "id": "83e79f3c-e43f-4fb4-b0b5-0f21f9822339",
   "metadata": {},
   "outputs": [],
   "source": [
    "data['date'] = data['date'].astype(int)\n",
    "data['time'] = data['time'].astype(int)"
   ]
  },
  {
   "cell_type": "code",
   "execution_count": 21,
   "id": "868f268d-4ab1-4a2f-b3d1-52f5ea30585e",
   "metadata": {},
   "outputs": [
    {
     "output_type": "execute_result",
     "data": {
      "text/plain": [
       "   deg_C  relative_humidity  absolute_humidity  sensor_1  sensor_2  sensor_3  \\\n",
       "0   13.1               46.0             0.7578    1387.2    1087.8    1056.0   \n",
       "1   13.2               45.3             0.7255    1279.1     888.2    1197.5   \n",
       "2   12.6               56.2             0.7502    1331.9     929.6    1060.2   \n",
       "3   11.0               62.4             0.7867    1321.0     929.0    1102.9   \n",
       "4   11.9               59.0             0.7888    1272.0     852.7    1180.9   \n",
       "\n",
       "   sensor_4  sensor_5  target_carbon_monoxide  target_benzene  \\\n",
       "0    1742.8    1293.4                     2.5            12.0   \n",
       "1    1449.9    1010.9                     2.1             9.9   \n",
       "2    1586.1    1117.0                     2.2             9.2   \n",
       "3    1536.5    1263.2                     2.2             9.7   \n",
       "4    1415.5    1132.2                     1.5             6.4   \n",
       "\n",
       "   target_nitrogen_oxides      date    time  \n",
       "0                   167.7  20100310  180000  \n",
       "1                    98.9  20100310  190000  \n",
       "2                   127.1  20100310  200000  \n",
       "3                   177.2  20100310  210000  \n",
       "4                   121.8  20100310  220000  "
      ],
      "text/html": "<div>\n<style scoped>\n    .dataframe tbody tr th:only-of-type {\n        vertical-align: middle;\n    }\n\n    .dataframe tbody tr th {\n        vertical-align: top;\n    }\n\n    .dataframe thead th {\n        text-align: right;\n    }\n</style>\n<table border=\"1\" class=\"dataframe\">\n  <thead>\n    <tr style=\"text-align: right;\">\n      <th></th>\n      <th>deg_C</th>\n      <th>relative_humidity</th>\n      <th>absolute_humidity</th>\n      <th>sensor_1</th>\n      <th>sensor_2</th>\n      <th>sensor_3</th>\n      <th>sensor_4</th>\n      <th>sensor_5</th>\n      <th>target_carbon_monoxide</th>\n      <th>target_benzene</th>\n      <th>target_nitrogen_oxides</th>\n      <th>date</th>\n      <th>time</th>\n    </tr>\n  </thead>\n  <tbody>\n    <tr>\n      <th>0</th>\n      <td>13.1</td>\n      <td>46.0</td>\n      <td>0.7578</td>\n      <td>1387.2</td>\n      <td>1087.8</td>\n      <td>1056.0</td>\n      <td>1742.8</td>\n      <td>1293.4</td>\n      <td>2.5</td>\n      <td>12.0</td>\n      <td>167.7</td>\n      <td>20100310</td>\n      <td>180000</td>\n    </tr>\n    <tr>\n      <th>1</th>\n      <td>13.2</td>\n      <td>45.3</td>\n      <td>0.7255</td>\n      <td>1279.1</td>\n      <td>888.2</td>\n      <td>1197.5</td>\n      <td>1449.9</td>\n      <td>1010.9</td>\n      <td>2.1</td>\n      <td>9.9</td>\n      <td>98.9</td>\n      <td>20100310</td>\n      <td>190000</td>\n    </tr>\n    <tr>\n      <th>2</th>\n      <td>12.6</td>\n      <td>56.2</td>\n      <td>0.7502</td>\n      <td>1331.9</td>\n      <td>929.6</td>\n      <td>1060.2</td>\n      <td>1586.1</td>\n      <td>1117.0</td>\n      <td>2.2</td>\n      <td>9.2</td>\n      <td>127.1</td>\n      <td>20100310</td>\n      <td>200000</td>\n    </tr>\n    <tr>\n      <th>3</th>\n      <td>11.0</td>\n      <td>62.4</td>\n      <td>0.7867</td>\n      <td>1321.0</td>\n      <td>929.0</td>\n      <td>1102.9</td>\n      <td>1536.5</td>\n      <td>1263.2</td>\n      <td>2.2</td>\n      <td>9.7</td>\n      <td>177.2</td>\n      <td>20100310</td>\n      <td>210000</td>\n    </tr>\n    <tr>\n      <th>4</th>\n      <td>11.9</td>\n      <td>59.0</td>\n      <td>0.7888</td>\n      <td>1272.0</td>\n      <td>852.7</td>\n      <td>1180.9</td>\n      <td>1415.5</td>\n      <td>1132.2</td>\n      <td>1.5</td>\n      <td>6.4</td>\n      <td>121.8</td>\n      <td>20100310</td>\n      <td>220000</td>\n    </tr>\n  </tbody>\n</table>\n</div>"
     },
     "metadata": {},
     "execution_count": 21
    }
   ],
   "source": [
    "data.head()"
   ]
  },
  {
   "cell_type": "code",
   "execution_count": 22,
   "id": "c0902716-3c89-48d6-8df9-1d52c975bc79",
   "metadata": {},
   "outputs": [
    {
     "output_type": "execute_result",
     "data": {
      "text/plain": [
       "deg_C                     float64\n",
       "relative_humidity         float64\n",
       "absolute_humidity         float64\n",
       "sensor_1                  float64\n",
       "sensor_2                  float64\n",
       "sensor_3                  float64\n",
       "sensor_4                  float64\n",
       "sensor_5                  float64\n",
       "target_carbon_monoxide    float64\n",
       "target_benzene            float64\n",
       "target_nitrogen_oxides    float64\n",
       "date                        int64\n",
       "time                        int64\n",
       "dtype: object"
      ]
     },
     "metadata": {},
     "execution_count": 22
    }
   ],
   "source": [
    "data.dtypes"
   ]
  },
  {
   "cell_type": "code",
   "execution_count": 23,
   "id": "a120eb3b-08f1-4b2a-b638-82c68ea0a519",
   "metadata": {},
   "outputs": [],
   "source": [
    "# Feature Enginnering"
   ]
  },
  {
   "cell_type": "code",
   "execution_count": 24,
   "id": "ac4fb8e5-e9f9-4713-9589-2e348c43bf40",
   "metadata": {},
   "outputs": [],
   "source": [
    "cols = data.drop(['target_carbon_monoxide','target_benzene','target_nitrogen_oxides'],axis=1)"
   ]
  },
  {
   "cell_type": "code",
   "execution_count": 25,
   "id": "162bd70a-6bab-4db0-8e7a-3137971ddd4a",
   "metadata": {},
   "outputs": [],
   "source": [
    "cols = list(cols.columns)"
   ]
  },
  {
   "cell_type": "code",
   "execution_count": 26,
   "id": "d55fa603-aa36-4361-9cda-be644e75f20d",
   "metadata": {},
   "outputs": [],
   "source": [
    "def feature_enginnerg(data,col):\n",
    "    print(len(data))\n",
    "    max_no = data[col].quantile(0.99) # 0.95\n",
    "    min_no = data[col].quantile(0.05)\n",
    "    data = data[data[col] > min_no]\n",
    "    data = data[data[col] < max_no]\n",
    "    print(len(data))\n",
    "    return data"
   ]
  },
  {
   "cell_type": "code",
   "execution_count": 27,
   "id": "34f60069-24a5-45bc-8fff-ff96411c3044",
   "metadata": {},
   "outputs": [],
   "source": [
    "data_just = data"
   ]
  },
  {
   "cell_type": "code",
   "execution_count": 28,
   "id": "8c67ee30-6492-41d6-a502-5e945f8c27da",
   "metadata": {},
   "outputs": [],
   "source": [
    "feature_enginnering_or_not = False"
   ]
  },
  {
   "cell_type": "code",
   "execution_count": 29,
   "id": "6a3666d3-3a0c-4803-bfc0-5a599f234109",
   "metadata": {},
   "outputs": [],
   "source": [
    "if feature_enginnering_or_not:\n",
    "    for col in cols:\n",
    "        print('*'*50)\n",
    "        print(col)\n",
    "        data = feature_enginnerg(data,col)\n",
    "        print(col)\n",
    "        print('*'*50)"
   ]
  },
  {
   "cell_type": "code",
   "execution_count": 30,
   "id": "d9d7fc35-9c54-4150-b85e-bd1172f69593",
   "metadata": {},
   "outputs": [],
   "source": [
    "# Modelling"
   ]
  },
  {
   "cell_type": "code",
   "execution_count": 31,
   "id": "a426be10-bbb0-4926-a3b6-4cd8f18cac30",
   "metadata": {},
   "outputs": [],
   "source": [
    "from sklearn.model_selection import train_test_split"
   ]
  },
  {
   "cell_type": "code",
   "execution_count": 32,
   "id": "853269e6-dcb0-4013-bb72-512dd7cccc55",
   "metadata": {},
   "outputs": [],
   "source": [
    "X,y = data.drop(data[['target_carbon_monoxide','target_benzene','target_nitrogen_oxides']],axis=1),data[['target_carbon_monoxide','target_benzene','target_nitrogen_oxides']]"
   ]
  },
  {
   "cell_type": "code",
   "execution_count": 33,
   "id": "dab73ad8-9465-429c-aab0-f74ebc620e34",
   "metadata": {},
   "outputs": [],
   "source": [
    "X_train,X_test,y_train,y_test = train_test_split(X,y,test_size=0.125)"
   ]
  },
  {
   "cell_type": "code",
   "execution_count": 34,
   "id": "fea77df2-098e-46bf-8146-e24a771f1ac1",
   "metadata": {},
   "outputs": [],
   "source": [
    "batch_size = 32\n",
    "epochs = 100"
   ]
  },
  {
   "cell_type": "code",
   "execution_count": 35,
   "id": "b10fa489-9bc2-4aad-a2e3-b9b2fa36d91b",
   "metadata": {},
   "outputs": [],
   "source": [
    "device = 'cuda'"
   ]
  },
  {
   "cell_type": "code",
   "execution_count": 36,
   "id": "bb414cc5-319c-4770-b121-638243f03d04",
   "metadata": {},
   "outputs": [],
   "source": [
    "from tqdm import tqdm"
   ]
  },
  {
   "cell_type": "code",
   "execution_count": 37,
   "id": "66070503-cada-45f0-9acf-e4ac2faea308",
   "metadata": {},
   "outputs": [],
   "source": [
    "def test(X_test,y_test,model):\n",
    "    X_test = torch.tensor(np.array(X_test))\n",
    "    y_test = torch.tensor(np.array(y_test))\n",
    "    model.eval()\n",
    "    with torch.no_grad():\n",
    "        correct = 0\n",
    "        total = 0\n",
    "        for idx in range(len(X_test)):\n",
    "            preds = model(X_test[idx].to(device).float().view(1,10))\n",
    "            results = np.round(y_test[idx].float().cpu()) == np.round(preds.float()[0].cpu())\n",
    "            if any(results):\n",
    "                correct += 1\n",
    "            total += 1\n",
    "    model.train()\n",
    "    return round(correct/total,3)"
   ]
  },
  {
   "cell_type": "code",
   "execution_count": 38,
   "id": "15d946a7-df3b-43e0-85e7-96f782338b08",
   "metadata": {},
   "outputs": [],
   "source": [
    "class Model(nn.Module):\n",
    "    def __init__(self,starter=64,activation=nn.ReLU()):\n",
    "        super().__init__()\n",
    "        self.fc1 = nn.Linear(10,starter)\n",
    "        self.fc1batchnorm = nn.BatchNorm1d(starter)\n",
    "        self.fc2 = nn.Linear(starter,starter*2)\n",
    "        self.fc2batchnorm = nn.BatchNorm1d(starter*2)\n",
    "        self.fc3 = nn.Linear(starter*2,starter*4)\n",
    "        self.fc3batchnorm = nn.BatchNorm1d(starter*4)\n",
    "        self.fc4 = nn.Linear(starter*4,starter*2)\n",
    "        self.fc4batchnorm = nn.BatchNorm1d(starter*2)\n",
    "        self.output = nn.Linear(starter*2,3)\n",
    "        self.activation = activation\n",
    "        \n",
    "    def forward(self,X):\n",
    "        preds = self.activation(self.fc1batchnorm(self.fc1(X)))\n",
    "        preds = self.activation(self.fc2batchnorm(self.fc2(preds)))\n",
    "        preds = self.activation(self.fc3batchnorm(self.fc3(preds)))\n",
    "        preds = self.activation(self.fc4batchnorm(self.fc4(preds)))\n",
    "        preds = self.output(preds)\n",
    "        return preds"
   ]
  },
  {
   "cell_type": "code",
   "execution_count": 39,
   "id": "560fe044-c31e-4edc-bc09-2d1636057ee9",
   "metadata": {},
   "outputs": [],
   "source": [
    "PROJECT_NAME = 'July-Tabular'"
   ]
  },
  {
   "cell_type": "code",
   "execution_count": 40,
   "id": "2a7d95b6-dba4-4f76-a3fd-4c8c43ffcb14",
   "metadata": {},
   "outputs": [],
   "source": [
    "def train(config,tune_using=True,name='test'):\n",
    "    if tune_using is False:\n",
    "        wandb.init(project=PROJECT_NAME,name=name)\n",
    "    epochs = config['epochs']\n",
    "    batch_size = config['batch_size']\n",
    "    criterion = config['criterion']()\n",
    "    model = Model(starter=config['starter'],activation=config['activation']).to(device)\n",
    "    optimizer = config['optimizer'](model.parameters(),lr=config['lr'])\n",
    "    for epoch in tqdm(range(epochs)):\n",
    "        for idx in range(0,len(X_train),batch_size):\n",
    "            X_batch = torch.tensor(np.array(X_train)[idx:idx+batch_size]).to(device)\n",
    "            y_batch = torch.tensor(np.array(y_train)[idx:idx+batch_size]).to(device)\n",
    "            model.to(device)\n",
    "            preds = model(X_batch.float()).to(device)\n",
    "            loss = criterion(preds.float(),y_batch.float())\n",
    "            optimizer.zero_grad()\n",
    "            loss.backward()\n",
    "            optimizer.step()\n",
    "            if tune_using is False:\n",
    "                wandb.log({'loss':loss.item()})\n",
    "            if tune_using:\n",
    "                tune.report(mean_loss=loss.item(),accuracy=test(X_test,y_test,model))\n",
    "        if tune_using is False:\n",
    "            wandb.log({'val_accuracy':test(X_test,y_test,model)})\n",
    "    if tune_using is False:\n",
    "        return model"
   ]
  },
  {
   "cell_type": "code",
   "execution_count": 41,
   "id": "2b903349-6633-4c48-8403-ce9d9505f015",
   "metadata": {},
   "outputs": [],
   "source": [
    "# config = {'epochs':100,'batch_size':32,'criterion':nn.MSELoss,'starter':64,'activation':nn.ReLU(),'optimizer':optim.Adam,'lr':0.0001}\n",
    "# model = train(config,False,'baseline-add-1-more-layer')"
   ]
  },
  {
   "cell_type": "code",
   "execution_count": 42,
   "id": "c5690a18-2670-4ed7-a1d7-a81e4cac178c",
   "metadata": {},
   "outputs": [],
   "source": [
    "# config = {'epochs':100,'batch_size':32,'criterion':nn.MSELoss,'starter':64,'activation':nn.ReLU(),'optimizer':optim.Adam,'lr':0.001}\n",
    "# model = train(config,False,'baseline')"
   ]
  },
  {
   "cell_type": "code",
   "execution_count": 43,
   "id": "1c976cb4-ec20-4c80-af57-7c5fb89eeda6",
   "metadata": {},
   "outputs": [
    {
     "output_type": "stream",
     "name": "stderr",
     "text": [
      "2021-07-07 13:18:20,136\tINFO services.py:1274 -- View the Ray dashboard at \u001b[1m\u001b[32mhttp://127.0.0.1:8265\u001b[39m\u001b[22m\n",
      "2021-07-07 13:18:21,855\tWARNING function_runner.py:545 -- Function checkpointing is disabled. This may result in unexpected behavior when using checkpointing features or certain schedulers. To enable, set the train function arguments to be `func(config, checkpoint_dir=None)`.\n"
     ]
    },
    {
     "output_type": "display_data",
     "data": {
      "text/plain": "<IPython.core.display.HTML object>",
      "text/html": "== Status ==<br>Memory usage on this node: 10.3/15.6 GiB<br>Using FIFO scheduling algorithm.<br>Resources requested: 0/6 CPUs, 0/1 GPUs, 0.0/4.9 GiB heap, 0.0/2.45 GiB objects (0.0/1.0 accelerator_type:G)<br>Result logdir: /home/indika/ray_results/train_2021-07-07_13-18-21<br>Number of trials: 2/2 (2 PENDING)<br><table>\n<thead>\n<tr><th>Trial name       </th><th>status  </th><th>loc  </th><th>activation                                  </th><th style=\"text-align: right;\">  batch_size</th><th>criterion                              </th><th style=\"text-align: right;\">  epochs</th><th style=\"text-align: right;\">    lr</th><th>optimizer                            </th><th style=\"text-align: right;\">  starter</th></tr>\n</thead>\n<tbody>\n<tr><td>train_b3bfb_00000</td><td>PENDING </td><td>     </td><td>ReLU6()                                     </td><td style=\"text-align: right;\">        6222</td><td>&lt;class &#x27;torch.nn.modules.loss.MSELoss&#x27;&gt;</td><td style=\"text-align: right;\">      25</td><td style=\"text-align: right;\">0.001 </td><td>&lt;class &#x27;torch.optim.adagrad.Adagrad&#x27;&gt;</td><td style=\"text-align: right;\">       64</td></tr>\n<tr><td>train_b3bfb_00001</td><td>PENDING </td><td>     </td><td>RReLU(lower=0.125, upper=0.3333333333333333)</td><td style=\"text-align: right;\">        6222</td><td>&lt;class &#x27;torch.nn.modules.loss.L1Loss&#x27;&gt; </td><td style=\"text-align: right;\">      25</td><td style=\"text-align: right;\">0.0001</td><td>&lt;class &#x27;torch.optim.sgd.SGD&#x27;&gt;        </td><td style=\"text-align: right;\">      512</td></tr>\n</tbody>\n</table><br><br>"
     },
     "metadata": {}
    },
    {
     "output_type": "stream",
     "name": "stderr",
     "text": [
      "  0%|          | 0/25 [00:00<?, ?it/s]\n",
      "Result for train_b3bfb_00000:\n",
      "  accuracy: 0.11\n",
      "  date: 2021-07-07_13-18-26\n",
      "  done: false\n",
      "  experiment_id: 3931e1a377ab4b57ac65c5a274772c15\n",
      "  hostname: ranugad\n",
      "  iterations_since_restore: 1\n",
      "  mean_loss: 26466.654296875\n",
      "  neg_mean_loss: -26466.654296875\n",
      "  node_ip: 192.168.1.9\n",
      "  pid: 752361\n",
      "  time_since_restore: 2.8707375526428223\n",
      "  time_this_iter_s: 2.8707375526428223\n",
      "  time_total_s: 2.8707375526428223\n",
      "  timestamp: 1625644106\n",
      "  timesteps_since_restore: 0\n",
      "  training_iteration: 1\n",
      "  trial_id: b3bfb_00000\n",
      "  \n",
      "  4%|▍         | 1/25 [00:00<00:13,  1.80it/s]\n",
      "  8%|▊         | 2/25 [00:01<00:12,  1.87it/s]\n",
      " 12%|█▏        | 3/25 [00:01<00:11,  1.88it/s]\n"
     ]
    },
    {
     "output_type": "display_data",
     "data": {
      "text/plain": "<IPython.core.display.HTML object>",
      "text/html": "== Status ==<br>Memory usage on this node: 13.2/15.6 GiB<br>Using FIFO scheduling algorithm.<br>Resources requested: 1.0/6 CPUs, 1.0/1 GPUs, 0.0/4.9 GiB heap, 0.0/2.45 GiB objects (0.0/1.0 accelerator_type:G)<br>Result logdir: /home/indika/ray_results/train_2021-07-07_13-18-21<br>Number of trials: 2/2 (1 PENDING, 1 RUNNING)<br><table>\n<thead>\n<tr><th>Trial name       </th><th>status  </th><th>loc               </th><th>activation                                  </th><th style=\"text-align: right;\">  batch_size</th><th>criterion                              </th><th style=\"text-align: right;\">  epochs</th><th style=\"text-align: right;\">    lr</th><th>optimizer                            </th><th style=\"text-align: right;\">  starter</th><th style=\"text-align: right;\">   loss</th><th style=\"text-align: right;\">  iter</th><th style=\"text-align: right;\">  total time (s)</th><th style=\"text-align: right;\">  accuracy</th><th style=\"text-align: right;\">  neg_mean_loss</th></tr>\n</thead>\n<tbody>\n<tr><td>train_b3bfb_00000</td><td>RUNNING </td><td>192.168.1.9:752361</td><td>ReLU6()                                     </td><td style=\"text-align: right;\">        6222</td><td>&lt;class &#x27;torch.nn.modules.loss.MSELoss&#x27;&gt;</td><td style=\"text-align: right;\">      25</td><td style=\"text-align: right;\">0.001 </td><td>&lt;class &#x27;torch.optim.adagrad.Adagrad&#x27;&gt;</td><td style=\"text-align: right;\">       64</td><td style=\"text-align: right;\">26375.2</td><td style=\"text-align: right;\">     3</td><td style=\"text-align: right;\">         3.92332</td><td style=\"text-align: right;\">      0.11</td><td style=\"text-align: right;\">       -26375.2</td></tr>\n<tr><td>train_b3bfb_00001</td><td>PENDING </td><td>                  </td><td>RReLU(lower=0.125, upper=0.3333333333333333)</td><td style=\"text-align: right;\">        6222</td><td>&lt;class &#x27;torch.nn.modules.loss.L1Loss&#x27;&gt; </td><td style=\"text-align: right;\">      25</td><td style=\"text-align: right;\">0.0001</td><td>&lt;class &#x27;torch.optim.sgd.SGD&#x27;&gt;        </td><td style=\"text-align: right;\">      512</td><td style=\"text-align: right;\">       </td><td style=\"text-align: right;\">      </td><td style=\"text-align: right;\">                </td><td style=\"text-align: right;\">          </td><td style=\"text-align: right;\">               </td></tr>\n</tbody>\n</table><br><br>"
     },
     "metadata": {}
    },
    {
     "output_type": "stream",
     "name": "stderr",
     "text": [
      " 16%|█▌        | 4/25 [00:02<00:11,  1.88it/s]\n",
      " 20%|██        | 5/25 [00:02<00:10,  1.87it/s]\n",
      " 24%|██▍       | 6/25 [00:03<00:10,  1.87it/s]\n",
      " 28%|██▊       | 7/25 [00:03<00:09,  1.90it/s]\n",
      " 32%|███▏      | 8/25 [00:04<00:08,  1.90it/s]\n",
      " 36%|███▌      | 9/25 [00:04<00:08,  1.90it/s]\n",
      " 40%|████      | 10/25 [00:05<00:07,  1.91it/s]\n",
      "Result for train_b3bfb_00000:\n",
      "  accuracy: 0.085\n",
      "  date: 2021-07-07_13-18-31\n",
      "  done: false\n",
      "  experiment_id: 3931e1a377ab4b57ac65c5a274772c15\n",
      "  hostname: ranugad\n",
      "  iterations_since_restore: 11\n",
      "  mean_loss: 26208.6640625\n",
      "  neg_mean_loss: -26208.6640625\n",
      "  node_ip: 192.168.1.9\n",
      "  pid: 752361\n",
      "  time_since_restore: 8.125495433807373\n",
      "  time_this_iter_s: 0.5219604969024658\n",
      "  time_total_s: 8.125495433807373\n",
      "  timestamp: 1625644111\n",
      "  timesteps_since_restore: 0\n",
      "  training_iteration: 11\n",
      "  trial_id: b3bfb_00000\n",
      "  \n",
      " 44%|████▍     | 11/25 [00:05<00:07,  1.91it/s]\n",
      " 48%|████▊     | 12/25 [00:06<00:06,  1.91it/s]\n"
     ]
    },
    {
     "output_type": "display_data",
     "data": {
      "text/plain": "<IPython.core.display.HTML object>",
      "text/html": "== Status ==<br>Memory usage on this node: 13.2/15.6 GiB<br>Using FIFO scheduling algorithm.<br>Resources requested: 1.0/6 CPUs, 1.0/1 GPUs, 0.0/4.9 GiB heap, 0.0/2.45 GiB objects (0.0/1.0 GPU_group_0_5b0b32a8783cdee2e771e79425e5c1b7, 0.0/1.0 accelerator_type:G, 0.0/1.0 GPU_group_5b0b32a8783cdee2e771e79425e5c1b7, 0.0/1.0 CPU_group_5b0b32a8783cdee2e771e79425e5c1b7, 0.0/1.0 CPU_group_0_5b0b32a8783cdee2e771e79425e5c1b7)<br>Result logdir: /home/indika/ray_results/train_2021-07-07_13-18-21<br>Number of trials: 2/2 (1 PENDING, 1 RUNNING)<br><table>\n<thead>\n<tr><th>Trial name       </th><th>status  </th><th>loc               </th><th>activation                                  </th><th style=\"text-align: right;\">  batch_size</th><th>criterion                              </th><th style=\"text-align: right;\">  epochs</th><th style=\"text-align: right;\">    lr</th><th>optimizer                            </th><th style=\"text-align: right;\">  starter</th><th style=\"text-align: right;\">  loss</th><th style=\"text-align: right;\">  iter</th><th style=\"text-align: right;\">  total time (s)</th><th style=\"text-align: right;\">  accuracy</th><th style=\"text-align: right;\">  neg_mean_loss</th></tr>\n</thead>\n<tbody>\n<tr><td>train_b3bfb_00000</td><td>RUNNING </td><td>192.168.1.9:752361</td><td>ReLU6()                                     </td><td style=\"text-align: right;\">        6222</td><td>&lt;class &#x27;torch.nn.modules.loss.MSELoss&#x27;&gt;</td><td style=\"text-align: right;\">      25</td><td style=\"text-align: right;\">0.001 </td><td>&lt;class &#x27;torch.optim.adagrad.Adagrad&#x27;&gt;</td><td style=\"text-align: right;\">       64</td><td style=\"text-align: right;\"> 26177</td><td style=\"text-align: right;\">    13</td><td style=\"text-align: right;\">         9.15597</td><td style=\"text-align: right;\">     0.085</td><td style=\"text-align: right;\">         -26177</td></tr>\n<tr><td>train_b3bfb_00001</td><td>PENDING </td><td>                  </td><td>RReLU(lower=0.125, upper=0.3333333333333333)</td><td style=\"text-align: right;\">        6222</td><td>&lt;class &#x27;torch.nn.modules.loss.L1Loss&#x27;&gt; </td><td style=\"text-align: right;\">      25</td><td style=\"text-align: right;\">0.0001</td><td>&lt;class &#x27;torch.optim.sgd.SGD&#x27;&gt;        </td><td style=\"text-align: right;\">      512</td><td style=\"text-align: right;\">      </td><td style=\"text-align: right;\">      </td><td style=\"text-align: right;\">                </td><td style=\"text-align: right;\">          </td><td style=\"text-align: right;\">               </td></tr>\n</tbody>\n</table><br><br>"
     },
     "metadata": {}
    },
    {
     "output_type": "stream",
     "name": "stderr",
     "text": [
      " 52%|█████▏    | 13/25 [00:06<00:06,  1.93it/s]\n",
      " 56%|█████▌    | 14/25 [00:07<00:05,  1.93it/s]\n",
      " 60%|██████    | 15/25 [00:07<00:05,  1.92it/s]\n",
      " 64%|██████▍   | 16/25 [00:08<00:04,  1.89it/s]\n",
      " 68%|██████▊   | 17/25 [00:08<00:04,  1.88it/s]\n",
      " 72%|███████▏  | 18/25 [00:09<00:03,  1.90it/s]\n",
      " 76%|███████▌  | 19/25 [00:09<00:03,  1.92it/s]\n",
      " 80%|████████  | 20/25 [00:10<00:02,  1.92it/s]\n",
      "Result for train_b3bfb_00000:\n",
      "  accuracy: 0.107\n",
      "  date: 2021-07-07_13-18-36\n",
      "  done: false\n",
      "  experiment_id: 3931e1a377ab4b57ac65c5a274772c15\n",
      "  hostname: ranugad\n",
      "  iterations_since_restore: 21\n",
      "  mean_loss: 26121.171875\n",
      "  neg_mean_loss: -26121.171875\n",
      "  node_ip: 192.168.1.9\n",
      "  pid: 752361\n",
      "  time_since_restore: 13.353907585144043\n",
      "  time_this_iter_s: 0.517296552658081\n",
      "  time_total_s: 13.353907585144043\n",
      "  timestamp: 1625644116\n",
      "  timesteps_since_restore: 0\n",
      "  training_iteration: 21\n",
      "  trial_id: b3bfb_00000\n",
      "  \n",
      " 84%|████████▍ | 21/25 [00:11<00:02,  1.92it/s]\n",
      " 88%|████████▊ | 22/25 [00:11<00:01,  1.93it/s]\n"
     ]
    },
    {
     "output_type": "display_data",
     "data": {
      "text/plain": "<IPython.core.display.HTML object>",
      "text/html": "== Status ==<br>Memory usage on this node: 13.2/15.6 GiB<br>Using FIFO scheduling algorithm.<br>Resources requested: 1.0/6 CPUs, 1.0/1 GPUs, 0.0/4.9 GiB heap, 0.0/2.45 GiB objects (0.0/1.0 GPU_group_0_5b0b32a8783cdee2e771e79425e5c1b7, 0.0/1.0 accelerator_type:G, 0.0/1.0 GPU_group_5b0b32a8783cdee2e771e79425e5c1b7, 0.0/1.0 CPU_group_5b0b32a8783cdee2e771e79425e5c1b7, 0.0/1.0 CPU_group_0_5b0b32a8783cdee2e771e79425e5c1b7)<br>Result logdir: /home/indika/ray_results/train_2021-07-07_13-18-21<br>Number of trials: 2/2 (1 PENDING, 1 RUNNING)<br><table>\n<thead>\n<tr><th>Trial name       </th><th>status  </th><th>loc               </th><th>activation                                  </th><th style=\"text-align: right;\">  batch_size</th><th>criterion                              </th><th style=\"text-align: right;\">  epochs</th><th style=\"text-align: right;\">    lr</th><th>optimizer                            </th><th style=\"text-align: right;\">  starter</th><th style=\"text-align: right;\">   loss</th><th style=\"text-align: right;\">  iter</th><th style=\"text-align: right;\">  total time (s)</th><th style=\"text-align: right;\">  accuracy</th><th style=\"text-align: right;\">  neg_mean_loss</th></tr>\n</thead>\n<tbody>\n<tr><td>train_b3bfb_00000</td><td>RUNNING </td><td>192.168.1.9:752361</td><td>ReLU6()                                     </td><td style=\"text-align: right;\">        6222</td><td>&lt;class &#x27;torch.nn.modules.loss.MSELoss&#x27;&gt;</td><td style=\"text-align: right;\">      25</td><td style=\"text-align: right;\">0.001 </td><td>&lt;class &#x27;torch.optim.adagrad.Adagrad&#x27;&gt;</td><td style=\"text-align: right;\">       64</td><td style=\"text-align: right;\">26105.4</td><td style=\"text-align: right;\">    23</td><td style=\"text-align: right;\">         14.3863</td><td style=\"text-align: right;\">     0.107</td><td style=\"text-align: right;\">       -26105.4</td></tr>\n<tr><td>train_b3bfb_00001</td><td>PENDING </td><td>                  </td><td>RReLU(lower=0.125, upper=0.3333333333333333)</td><td style=\"text-align: right;\">        6222</td><td>&lt;class &#x27;torch.nn.modules.loss.L1Loss&#x27;&gt; </td><td style=\"text-align: right;\">      25</td><td style=\"text-align: right;\">0.0001</td><td>&lt;class &#x27;torch.optim.sgd.SGD&#x27;&gt;        </td><td style=\"text-align: right;\">      512</td><td style=\"text-align: right;\">       </td><td style=\"text-align: right;\">      </td><td style=\"text-align: right;\">                </td><td style=\"text-align: right;\">          </td><td style=\"text-align: right;\">               </td></tr>\n</tbody>\n</table><br><br>"
     },
     "metadata": {}
    },
    {
     "output_type": "stream",
     "name": "stderr",
     "text": [
      " 92%|█████████▏| 23/25 [00:12<00:01,  1.93it/s]\n",
      " 96%|█████████▌| 24/25 [00:12<00:00,  1.92it/s]\n",
      "2021-07-07 13:18:38,584\tINFO logger.py:699 -- Removed the following hyperparameter values when logging to tensorboard: {'activation': ReLU6(), 'optimizer': <class 'torch.optim.adagrad.Adagrad'>, 'criterion': <class 'torch.nn.modules.loss.MSELoss'>}\n",
      "Result for train_b3bfb_00000:\n",
      "  accuracy: 0.087\n",
      "  date: 2021-07-07_13-18-38\n",
      "  done: true\n",
      "  experiment_id: 3931e1a377ab4b57ac65c5a274772c15\n",
      "  experiment_tag: 0_activation=ReLU6(),batch_size=6222,criterion=<class 'torch.nn.modules.loss.MSELoss'>,epochs=25,lr=0.001,optimizer=<class\n",
      "    'torch.optim.adagrad.Adagrad'>,starter=64\n",
      "  hostname: ranugad\n",
      "  iterations_since_restore: 25\n",
      "  mean_loss: 26154.810546875\n",
      "  neg_mean_loss: -26154.810546875\n",
      "  node_ip: 192.168.1.9\n",
      "  pid: 752361\n",
      "  time_since_restore: 15.444942474365234\n",
      "  time_this_iter_s: 0.5320596694946289\n",
      "  time_total_s: 15.444942474365234\n",
      "  timestamp: 1625644118\n",
      "  timesteps_since_restore: 0\n",
      "  training_iteration: 25\n",
      "  trial_id: b3bfb_00000\n",
      "  \n",
      "100%|██████████| 25/25 [00:13<00:00,  1.90it/s]\n",
      "  0%|          | 0/25 [00:00<?, ?it/s]\n",
      "Result for train_b3bfb_00001:\n",
      "  accuracy: 0.003\n",
      "  date: 2021-07-07_13-18-42\n",
      "  done: false\n",
      "  experiment_id: 884403f1fd6b4abd81b4c82de10987ec\n",
      "  hostname: ranugad\n",
      "  iterations_since_restore: 1\n",
      "  mean_loss: 72.18403625488281\n",
      "  neg_mean_loss: -72.18403625488281\n",
      "  node_ip: 192.168.1.9\n",
      "  pid: 752362\n",
      "  time_since_restore: 2.8239905834198\n",
      "  time_this_iter_s: 2.8239905834198\n",
      "  time_total_s: 2.8239905834198\n",
      "  timestamp: 1625644122\n",
      "  timesteps_since_restore: 0\n",
      "  training_iteration: 1\n",
      "  trial_id: b3bfb_00001\n",
      "  \n"
     ]
    },
    {
     "output_type": "display_data",
     "data": {
      "text/plain": "<IPython.core.display.HTML object>",
      "text/html": "== Status ==<br>Memory usage on this node: 13.1/15.6 GiB<br>Using FIFO scheduling algorithm.<br>Resources requested: 1.0/6 CPUs, 1.0/1 GPUs, 0.0/4.9 GiB heap, 0.0/2.45 GiB objects (0.0/1.0 GPU_group_0_5b0b32a8783cdee2e771e79425e5c1b7, 0.0/1.0 accelerator_type:G, 0.0/1.0 GPU_group_5b0b32a8783cdee2e771e79425e5c1b7, 0.0/1.0 CPU_group_5b0b32a8783cdee2e771e79425e5c1b7, 0.0/1.0 CPU_group_0_5b0b32a8783cdee2e771e79425e5c1b7)<br>Result logdir: /home/indika/ray_results/train_2021-07-07_13-18-21<br>Number of trials: 2/2 (1 RUNNING, 1 TERMINATED)<br><table>\n<thead>\n<tr><th>Trial name       </th><th>status    </th><th>loc               </th><th>activation                                  </th><th style=\"text-align: right;\">  batch_size</th><th>criterion                              </th><th style=\"text-align: right;\">  epochs</th><th style=\"text-align: right;\">    lr</th><th>optimizer                            </th><th style=\"text-align: right;\">  starter</th><th style=\"text-align: right;\">     loss</th><th style=\"text-align: right;\">  iter</th><th style=\"text-align: right;\">  total time (s)</th><th style=\"text-align: right;\">  accuracy</th><th style=\"text-align: right;\">  neg_mean_loss</th></tr>\n</thead>\n<tbody>\n<tr><td>train_b3bfb_00001</td><td>RUNNING   </td><td>192.168.1.9:752362</td><td>RReLU(lower=0.125, upper=0.3333333333333333)</td><td style=\"text-align: right;\">        6222</td><td>&lt;class &#x27;torch.nn.modules.loss.L1Loss&#x27;&gt; </td><td style=\"text-align: right;\">      25</td><td style=\"text-align: right;\">0.0001</td><td>&lt;class &#x27;torch.optim.sgd.SGD&#x27;&gt;        </td><td style=\"text-align: right;\">      512</td><td style=\"text-align: right;\">   72.184</td><td style=\"text-align: right;\">     1</td><td style=\"text-align: right;\">         2.82399</td><td style=\"text-align: right;\">     0.003</td><td style=\"text-align: right;\">        -72.184</td></tr>\n<tr><td>train_b3bfb_00000</td><td>TERMINATED</td><td>                  </td><td>ReLU6()                                     </td><td style=\"text-align: right;\">        6222</td><td>&lt;class &#x27;torch.nn.modules.loss.MSELoss&#x27;&gt;</td><td style=\"text-align: right;\">      25</td><td style=\"text-align: right;\">0.001 </td><td>&lt;class &#x27;torch.optim.adagrad.Adagrad&#x27;&gt;</td><td style=\"text-align: right;\">       64</td><td style=\"text-align: right;\">26154.8  </td><td style=\"text-align: right;\">    25</td><td style=\"text-align: right;\">        15.4449 </td><td style=\"text-align: right;\">     0.087</td><td style=\"text-align: right;\">     -26154.8  </td></tr>\n</tbody>\n</table><br><br>"
     },
     "metadata": {}
    },
    {
     "output_type": "stream",
     "name": "stderr",
     "text": [
      "  4%|▍         | 1/25 [00:00<00:13,  1.72it/s]\n",
      "  8%|▊         | 2/25 [00:01<00:12,  1.77it/s]\n",
      " 12%|█▏        | 3/25 [00:01<00:12,  1.77it/s]\n",
      " 16%|█▌        | 4/25 [00:02<00:11,  1.77it/s]\n",
      " 20%|██        | 5/25 [00:02<00:11,  1.76it/s]\n",
      " 24%|██▍       | 6/25 [00:03<00:10,  1.76it/s]\n",
      " 28%|██▊       | 7/25 [00:03<00:10,  1.74it/s]\n",
      " 32%|███▏      | 8/25 [00:04<00:09,  1.75it/s]\n",
      " 36%|███▌      | 9/25 [00:05<00:09,  1.77it/s]\n",
      "Result for train_b3bfb_00001:\n",
      "  accuracy: 0.036\n",
      "  date: 2021-07-07_13-18-47\n",
      "  done: false\n",
      "  experiment_id: 884403f1fd6b4abd81b4c82de10987ec\n",
      "  hostname: ranugad\n",
      "  iterations_since_restore: 10\n",
      "  mean_loss: 72.15001678466797\n",
      "  neg_mean_loss: -72.15001678466797\n",
      "  node_ip: 192.168.1.9\n",
      "  pid: 752362\n",
      "  time_since_restore: 7.9174275398254395\n",
      "  time_this_iter_s: 0.5580036640167236\n",
      "  time_total_s: 7.9174275398254395\n",
      "  timestamp: 1625644127\n",
      "  timesteps_since_restore: 0\n",
      "  training_iteration: 10\n",
      "  trial_id: b3bfb_00001\n",
      "  \n"
     ]
    },
    {
     "output_type": "display_data",
     "data": {
      "text/plain": "<IPython.core.display.HTML object>",
      "text/html": "== Status ==<br>Memory usage on this node: 13.1/15.6 GiB<br>Using FIFO scheduling algorithm.<br>Resources requested: 1.0/6 CPUs, 1.0/1 GPUs, 0.0/4.9 GiB heap, 0.0/2.45 GiB objects (0.0/1.0 CPU_group_0_5b0b32a8783cdee2e771e79425e5c1b7, 0.0/1.0 GPU_group_5b0b32a8783cdee2e771e79425e5c1b7, 0.0/1.0 GPU_group_0_5b0b32a8783cdee2e771e79425e5c1b7, 0.0/1.0 accelerator_type:G, 0.0/1.0 CPU_group_5b0b32a8783cdee2e771e79425e5c1b7)<br>Result logdir: /home/indika/ray_results/train_2021-07-07_13-18-21<br>Number of trials: 2/2 (1 RUNNING, 1 TERMINATED)<br><table>\n<thead>\n<tr><th>Trial name       </th><th>status    </th><th>loc               </th><th>activation                                  </th><th style=\"text-align: right;\">  batch_size</th><th>criterion                              </th><th style=\"text-align: right;\">  epochs</th><th style=\"text-align: right;\">    lr</th><th>optimizer                            </th><th style=\"text-align: right;\">  starter</th><th style=\"text-align: right;\">    loss</th><th style=\"text-align: right;\">  iter</th><th style=\"text-align: right;\">  total time (s)</th><th style=\"text-align: right;\">  accuracy</th><th style=\"text-align: right;\">  neg_mean_loss</th></tr>\n</thead>\n<tbody>\n<tr><td>train_b3bfb_00001</td><td>RUNNING   </td><td>192.168.1.9:752362</td><td>RReLU(lower=0.125, upper=0.3333333333333333)</td><td style=\"text-align: right;\">        6222</td><td>&lt;class &#x27;torch.nn.modules.loss.L1Loss&#x27;&gt; </td><td style=\"text-align: right;\">      25</td><td style=\"text-align: right;\">0.0001</td><td>&lt;class &#x27;torch.optim.sgd.SGD&#x27;&gt;        </td><td style=\"text-align: right;\">      512</td><td style=\"text-align: right;\">   72.15</td><td style=\"text-align: right;\">    10</td><td style=\"text-align: right;\">         7.91743</td><td style=\"text-align: right;\">     0.036</td><td style=\"text-align: right;\">         -72.15</td></tr>\n<tr><td>train_b3bfb_00000</td><td>TERMINATED</td><td>                  </td><td>ReLU6()                                     </td><td style=\"text-align: right;\">        6222</td><td>&lt;class &#x27;torch.nn.modules.loss.MSELoss&#x27;&gt;</td><td style=\"text-align: right;\">      25</td><td style=\"text-align: right;\">0.001 </td><td>&lt;class &#x27;torch.optim.adagrad.Adagrad&#x27;&gt;</td><td style=\"text-align: right;\">       64</td><td style=\"text-align: right;\">26154.8 </td><td style=\"text-align: right;\">    25</td><td style=\"text-align: right;\">        15.4449 </td><td style=\"text-align: right;\">     0.087</td><td style=\"text-align: right;\">      -26154.8 </td></tr>\n</tbody>\n</table><br><br>"
     },
     "metadata": {}
    },
    {
     "output_type": "stream",
     "name": "stderr",
     "text": [
      " 40%|████      | 10/25 [00:05<00:08,  1.77it/s]\n",
      " 44%|████▍     | 11/25 [00:06<00:08,  1.74it/s]\n",
      " 48%|████▊     | 12/25 [00:06<00:07,  1.73it/s]\n",
      " 52%|█████▏    | 13/25 [00:07<00:06,  1.74it/s]\n",
      " 56%|█████▌    | 14/25 [00:07<00:06,  1.75it/s]\n",
      " 60%|██████    | 15/25 [00:08<00:05,  1.75it/s]\n",
      " 64%|██████▍   | 16/25 [00:09<00:05,  1.76it/s]\n",
      " 68%|██████▊   | 17/25 [00:09<00:04,  1.76it/s]\n",
      " 72%|███████▏  | 18/25 [00:10<00:03,  1.76it/s]\n",
      "Result for train_b3bfb_00001:\n",
      "  accuracy: 0.04\n",
      "  date: 2021-07-07_13-18-52\n",
      "  done: false\n",
      "  experiment_id: 884403f1fd6b4abd81b4c82de10987ec\n",
      "  hostname: ranugad\n",
      "  iterations_since_restore: 19\n",
      "  mean_loss: 72.11620330810547\n",
      "  neg_mean_loss: -72.11620330810547\n",
      "  node_ip: 192.168.1.9\n",
      "  pid: 752362\n",
      "  time_since_restore: 13.078354835510254\n",
      "  time_this_iter_s: 0.5741598606109619\n",
      "  time_total_s: 13.078354835510254\n",
      "  timestamp: 1625644132\n",
      "  timesteps_since_restore: 0\n",
      "  training_iteration: 19\n",
      "  trial_id: b3bfb_00001\n",
      "  \n"
     ]
    },
    {
     "output_type": "display_data",
     "data": {
      "text/plain": "<IPython.core.display.HTML object>",
      "text/html": "== Status ==<br>Memory usage on this node: 13.1/15.6 GiB<br>Using FIFO scheduling algorithm.<br>Resources requested: 1.0/6 CPUs, 1.0/1 GPUs, 0.0/4.9 GiB heap, 0.0/2.45 GiB objects (0.0/1.0 CPU_group_0_5b0b32a8783cdee2e771e79425e5c1b7, 0.0/1.0 GPU_group_5b0b32a8783cdee2e771e79425e5c1b7, 0.0/1.0 GPU_group_0_5b0b32a8783cdee2e771e79425e5c1b7, 0.0/1.0 accelerator_type:G, 0.0/1.0 CPU_group_5b0b32a8783cdee2e771e79425e5c1b7)<br>Result logdir: /home/indika/ray_results/train_2021-07-07_13-18-21<br>Number of trials: 2/2 (1 RUNNING, 1 TERMINATED)<br><table>\n<thead>\n<tr><th>Trial name       </th><th>status    </th><th>loc               </th><th>activation                                  </th><th style=\"text-align: right;\">  batch_size</th><th>criterion                              </th><th style=\"text-align: right;\">  epochs</th><th style=\"text-align: right;\">    lr</th><th>optimizer                            </th><th style=\"text-align: right;\">  starter</th><th style=\"text-align: right;\">      loss</th><th style=\"text-align: right;\">  iter</th><th style=\"text-align: right;\">  total time (s)</th><th style=\"text-align: right;\">  accuracy</th><th style=\"text-align: right;\">  neg_mean_loss</th></tr>\n</thead>\n<tbody>\n<tr><td>train_b3bfb_00001</td><td>RUNNING   </td><td>192.168.1.9:752362</td><td>RReLU(lower=0.125, upper=0.3333333333333333)</td><td style=\"text-align: right;\">        6222</td><td>&lt;class &#x27;torch.nn.modules.loss.L1Loss&#x27;&gt; </td><td style=\"text-align: right;\">      25</td><td style=\"text-align: right;\">0.0001</td><td>&lt;class &#x27;torch.optim.sgd.SGD&#x27;&gt;        </td><td style=\"text-align: right;\">      512</td><td style=\"text-align: right;\">   72.1162</td><td style=\"text-align: right;\">    19</td><td style=\"text-align: right;\">         13.0784</td><td style=\"text-align: right;\">     0.04 </td><td style=\"text-align: right;\">       -72.1162</td></tr>\n<tr><td>train_b3bfb_00000</td><td>TERMINATED</td><td>                  </td><td>ReLU6()                                     </td><td style=\"text-align: right;\">        6222</td><td>&lt;class &#x27;torch.nn.modules.loss.MSELoss&#x27;&gt;</td><td style=\"text-align: right;\">      25</td><td style=\"text-align: right;\">0.001 </td><td>&lt;class &#x27;torch.optim.adagrad.Adagrad&#x27;&gt;</td><td style=\"text-align: right;\">       64</td><td style=\"text-align: right;\">26154.8   </td><td style=\"text-align: right;\">    25</td><td style=\"text-align: right;\">         15.4449</td><td style=\"text-align: right;\">     0.087</td><td style=\"text-align: right;\">    -26154.8   </td></tr>\n</tbody>\n</table><br><br>"
     },
     "metadata": {}
    },
    {
     "output_type": "stream",
     "name": "stderr",
     "text": [
      " 76%|███████▌  | 19/25 [00:10<00:03,  1.75it/s]\n",
      " 80%|████████  | 20/25 [00:11<00:02,  1.76it/s]\n",
      " 84%|████████▍ | 21/25 [00:11<00:02,  1.76it/s]\n",
      " 88%|████████▊ | 22/25 [00:12<00:01,  1.76it/s]\n",
      " 92%|█████████▏| 23/25 [00:13<00:01,  1.74it/s]\n",
      " 96%|█████████▌| 24/25 [00:13<00:00,  1.76it/s]\n",
      "2021-07-07 13:18:56,172\tINFO logger.py:699 -- Removed the following hyperparameter values when logging to tensorboard: {'activation': RReLU(lower=0.125, upper=0.3333333333333333), 'optimizer': <class 'torch.optim.sgd.SGD'>, 'criterion': <class 'torch.nn.modules.loss.L1Loss'>}\n",
      "Result for train_b3bfb_00001:\n",
      "  accuracy: 0.002\n",
      "  date: 2021-07-07_13-18-56\n",
      "  done: true\n",
      "  experiment_id: 884403f1fd6b4abd81b4c82de10987ec\n",
      "  experiment_tag: 1_activation=RReLU(lower=0.125, upper=0.3333333333333333),batch_size=6222,criterion=<class\n",
      "    'torch.nn.modules.loss.L1Loss'>,epochs=25,lr=0.0001,optimizer=<class 'torch.optim.sgd.SGD'>,starter=512\n",
      "  hostname: ranugad\n",
      "  iterations_since_restore: 25\n",
      "  mean_loss: 72.09603881835938\n",
      "  neg_mean_loss: -72.09603881835938\n",
      "  node_ip: 192.168.1.9\n",
      "  pid: 752362\n",
      "  time_since_restore: 16.479299306869507\n",
      "  time_this_iter_s: 0.5490083694458008\n",
      "  time_total_s: 16.479299306869507\n",
      "  timestamp: 1625644136\n",
      "  timesteps_since_restore: 0\n",
      "  training_iteration: 25\n",
      "  trial_id: b3bfb_00001\n",
      "  \n",
      "100%|██████████| 25/25 [00:14<00:00,  1.76it/s]\n"
     ]
    },
    {
     "output_type": "display_data",
     "data": {
      "text/plain": "<IPython.core.display.HTML object>",
      "text/html": "== Status ==<br>Memory usage on this node: 13.0/15.6 GiB<br>Using FIFO scheduling algorithm.<br>Resources requested: 0/6 CPUs, 0/1 GPUs, 0.0/4.9 GiB heap, 0.0/2.45 GiB objects (0.0/1.0 GPU_group_5b0b32a8783cdee2e771e79425e5c1b7, 0.0/1.0 GPU_group_0_5b0b32a8783cdee2e771e79425e5c1b7, 0.0/1.0 CPU_group_5b0b32a8783cdee2e771e79425e5c1b7, 0.0/1.0 CPU_group_0_5b0b32a8783cdee2e771e79425e5c1b7, 0.0/1.0 accelerator_type:G)<br>Result logdir: /home/indika/ray_results/train_2021-07-07_13-18-21<br>Number of trials: 2/2 (2 TERMINATED)<br><table>\n<thead>\n<tr><th>Trial name       </th><th>status    </th><th>loc  </th><th>activation                                  </th><th style=\"text-align: right;\">  batch_size</th><th>criterion                              </th><th style=\"text-align: right;\">  epochs</th><th style=\"text-align: right;\">    lr</th><th>optimizer                            </th><th style=\"text-align: right;\">  starter</th><th style=\"text-align: right;\">     loss</th><th style=\"text-align: right;\">  iter</th><th style=\"text-align: right;\">  total time (s)</th><th style=\"text-align: right;\">  accuracy</th><th style=\"text-align: right;\">  neg_mean_loss</th></tr>\n</thead>\n<tbody>\n<tr><td>train_b3bfb_00000</td><td>TERMINATED</td><td>     </td><td>ReLU6()                                     </td><td style=\"text-align: right;\">        6222</td><td>&lt;class &#x27;torch.nn.modules.loss.MSELoss&#x27;&gt;</td><td style=\"text-align: right;\">      25</td><td style=\"text-align: right;\">0.001 </td><td>&lt;class &#x27;torch.optim.adagrad.Adagrad&#x27;&gt;</td><td style=\"text-align: right;\">       64</td><td style=\"text-align: right;\">26154.8  </td><td style=\"text-align: right;\">    25</td><td style=\"text-align: right;\">         15.4449</td><td style=\"text-align: right;\">     0.087</td><td style=\"text-align: right;\">     -26154.8  </td></tr>\n<tr><td>train_b3bfb_00001</td><td>TERMINATED</td><td>     </td><td>RReLU(lower=0.125, upper=0.3333333333333333)</td><td style=\"text-align: right;\">        6222</td><td>&lt;class &#x27;torch.nn.modules.loss.L1Loss&#x27;&gt; </td><td style=\"text-align: right;\">      25</td><td style=\"text-align: right;\">0.0001</td><td>&lt;class &#x27;torch.optim.sgd.SGD&#x27;&gt;        </td><td style=\"text-align: right;\">      512</td><td style=\"text-align: right;\">   72.096</td><td style=\"text-align: right;\">    25</td><td style=\"text-align: right;\">         16.4793</td><td style=\"text-align: right;\">     0.002</td><td style=\"text-align: right;\">        -72.096</td></tr>\n</tbody>\n</table><br><br>"
     },
     "metadata": {}
    },
    {
     "output_type": "stream",
     "name": "stderr",
     "text": [
      "2021-07-07 13:18:56,303\tINFO tune.py:549 -- Total run time: 34.45 seconds (34.26 seconds for the tuning loop).\n",
      "Best config:  {'epochs': 25, 'batch_size': 6222, 'criterion': <class 'torch.nn.modules.loss.L1Loss'>, 'starter': 512, 'activation': RReLU(lower=0.125, upper=0.3333333333333333), 'optimizer': <class 'torch.optim.sgd.SGD'>, 'lr': 0.0001}\n"
     ]
    },
    {
     "output_type": "execute_result",
     "data": {
      "text/plain": [
       "                mean_loss  accuracy  time_this_iter_s  done timesteps_total  \\\n",
       "trial_id                                                                      \n",
       "b3bfb_00000  26154.810547     0.087          0.532060  True            None   \n",
       "b3bfb_00001     72.096039     0.002          0.549008  True            None   \n",
       "\n",
       "            episodes_total  training_iteration  neg_mean_loss  \\\n",
       "trial_id                                                        \n",
       "b3bfb_00000           None                  25  -26154.810547   \n",
       "b3bfb_00001           None                  25     -72.096039   \n",
       "\n",
       "                                experiment_id                 date  ...  \\\n",
       "trial_id                                                            ...   \n",
       "b3bfb_00000  3931e1a377ab4b57ac65c5a274772c15  2021-07-07_13-18-38  ...   \n",
       "b3bfb_00001  884403f1fd6b4abd81b4c82de10987ec  2021-07-07_13-18-56  ...   \n",
       "\n",
       "             timesteps_since_restore  iterations_since_restore  \\\n",
       "trial_id                                                         \n",
       "b3bfb_00000                        0                        25   \n",
       "b3bfb_00001                        0                        25   \n",
       "\n",
       "                                                experiment_tag config.epochs  \\\n",
       "trial_id                                                                       \n",
       "b3bfb_00000  0_activation=ReLU6(),batch_size=6222,criterion...            25   \n",
       "b3bfb_00001  1_activation=RReLU(lower=0.125, upper=0.333333...            25   \n",
       "\n",
       "            config.batch_size                         config.criterion  \\\n",
       "trial_id                                                                 \n",
       "b3bfb_00000              6222  <class 'torch.nn.modules.loss.MSELoss'>   \n",
       "b3bfb_00001              6222   <class 'torch.nn.modules.loss.L1Loss'>   \n",
       "\n",
       "             config.starter                             config.activation  \\\n",
       "trial_id                                                                    \n",
       "b3bfb_00000              64                                       ReLU6()   \n",
       "b3bfb_00001             512  RReLU(lower=0.125, upper=0.3333333333333333)   \n",
       "\n",
       "                                  config.optimizer  config.lr  \n",
       "trial_id                                                       \n",
       "b3bfb_00000  <class 'torch.optim.adagrad.Adagrad'>     0.0010  \n",
       "b3bfb_00001          <class 'torch.optim.sgd.SGD'>     0.0001  \n",
       "\n",
       "[2 rows x 26 columns]"
      ],
      "text/html": "<div>\n<style scoped>\n    .dataframe tbody tr th:only-of-type {\n        vertical-align: middle;\n    }\n\n    .dataframe tbody tr th {\n        vertical-align: top;\n    }\n\n    .dataframe thead th {\n        text-align: right;\n    }\n</style>\n<table border=\"1\" class=\"dataframe\">\n  <thead>\n    <tr style=\"text-align: right;\">\n      <th></th>\n      <th>mean_loss</th>\n      <th>accuracy</th>\n      <th>time_this_iter_s</th>\n      <th>done</th>\n      <th>timesteps_total</th>\n      <th>episodes_total</th>\n      <th>training_iteration</th>\n      <th>neg_mean_loss</th>\n      <th>experiment_id</th>\n      <th>date</th>\n      <th>...</th>\n      <th>timesteps_since_restore</th>\n      <th>iterations_since_restore</th>\n      <th>experiment_tag</th>\n      <th>config.epochs</th>\n      <th>config.batch_size</th>\n      <th>config.criterion</th>\n      <th>config.starter</th>\n      <th>config.activation</th>\n      <th>config.optimizer</th>\n      <th>config.lr</th>\n    </tr>\n    <tr>\n      <th>trial_id</th>\n      <th></th>\n      <th></th>\n      <th></th>\n      <th></th>\n      <th></th>\n      <th></th>\n      <th></th>\n      <th></th>\n      <th></th>\n      <th></th>\n      <th></th>\n      <th></th>\n      <th></th>\n      <th></th>\n      <th></th>\n      <th></th>\n      <th></th>\n      <th></th>\n      <th></th>\n      <th></th>\n      <th></th>\n    </tr>\n  </thead>\n  <tbody>\n    <tr>\n      <th>b3bfb_00000</th>\n      <td>26154.810547</td>\n      <td>0.087</td>\n      <td>0.532060</td>\n      <td>True</td>\n      <td>None</td>\n      <td>None</td>\n      <td>25</td>\n      <td>-26154.810547</td>\n      <td>3931e1a377ab4b57ac65c5a274772c15</td>\n      <td>2021-07-07_13-18-38</td>\n      <td>...</td>\n      <td>0</td>\n      <td>25</td>\n      <td>0_activation=ReLU6(),batch_size=6222,criterion...</td>\n      <td>25</td>\n      <td>6222</td>\n      <td>&lt;class 'torch.nn.modules.loss.MSELoss'&gt;</td>\n      <td>64</td>\n      <td>ReLU6()</td>\n      <td>&lt;class 'torch.optim.adagrad.Adagrad'&gt;</td>\n      <td>0.0010</td>\n    </tr>\n    <tr>\n      <th>b3bfb_00001</th>\n      <td>72.096039</td>\n      <td>0.002</td>\n      <td>0.549008</td>\n      <td>True</td>\n      <td>None</td>\n      <td>None</td>\n      <td>25</td>\n      <td>-72.096039</td>\n      <td>884403f1fd6b4abd81b4c82de10987ec</td>\n      <td>2021-07-07_13-18-56</td>\n      <td>...</td>\n      <td>0</td>\n      <td>25</td>\n      <td>1_activation=RReLU(lower=0.125, upper=0.333333...</td>\n      <td>25</td>\n      <td>6222</td>\n      <td>&lt;class 'torch.nn.modules.loss.L1Loss'&gt;</td>\n      <td>512</td>\n      <td>RReLU(lower=0.125, upper=0.3333333333333333)</td>\n      <td>&lt;class 'torch.optim.sgd.SGD'&gt;</td>\n      <td>0.0001</td>\n    </tr>\n  </tbody>\n</table>\n<p>2 rows × 26 columns</p>\n</div>"
     },
     "metadata": {},
     "execution_count": 43
    }
   ],
   "source": [
    "analysis = tune.run(\n",
    "    train,\n",
    "    config={\n",
    "        \"epochs\": tune.grid_search([25]),\n",
    "        \"batch_size\": tune.grid_search([len(X_train)]),\n",
    "        \"criterion\": tune.grid_search([nn.MSELoss,nn.L1Loss]),\n",
    "        \"starter\": tune.grid_search([16,32,64,128,256,512]),\n",
    "        \"activation\": tune.grid_search([nn.LeakyReLU(),nn.PReLU(),nn.ReLU(),nn.ReLU6(),nn.RReLU(),nn.ELU(),nn.SiLU()]),\n",
    "        'optimizer':tune.grid_search([optim.Adam,optim.AdamW,optim.Adamax,optim.Adagrad,optim.SGD]),\n",
    "        'lr':tune.grid_search([1e-3,1e-4,1e-2,1e-1,1e-5])\n",
    "    },resources_per_trial={\"gpu\": 1},)\n",
    "print(\"Best config: \", analysis.get_best_config(\n",
    "    metric=\"mean_loss\", mode=\"min\"))\n",
    "df = analysis.results_df\n",
    "df.head()"
   ]
  },
  {
   "cell_type": "code",
   "execution_count": null,
   "id": "2c73a5c0-30ab-43e0-85c6-162dfb50d3bc",
   "metadata": {},
   "outputs": [],
   "source": [
    "# config = analysis.get_best_config(metric=\"mean_loss\", mode=\"min\")\n",
    "# config['epochs'] = 100\n",
    "# train(config,False,f'final-{config[\"epochs\"]}')"
   ]
  },
  {
   "cell_type": "code",
   "execution_count": 105,
   "id": "bdc0eb85-441e-410f-8514-2f65910fa652",
   "metadata": {},
   "outputs": [],
   "source": [
    "# config = analysis.get_best_config(metric=\"accuracy\", mode=\"min\")\n",
    "# config['epochs'] = 100\n",
    "# model = train(config,False,f'final-{config[\"epochs\"]}-min')"
   ]
  },
  {
   "cell_type": "code",
   "execution_count": 106,
   "id": "c5d2dc69-79e0-40be-831e-ce411d57ad16",
   "metadata": {},
   "outputs": [
    {
     "output_type": "display_data",
     "data": {
      "text/plain": "<IPython.core.display.HTML object>",
      "text/html": "Finishing last run (ID:226ugq0k) before initializing another..."
     },
     "metadata": {}
    },
    {
     "output_type": "display_data",
     "data": {
      "text/plain": "<IPython.core.display.HTML object>",
      "text/html": "<br/>Waiting for W&B process to finish, PID 758114<br/>Program ended successfully."
     },
     "metadata": {}
    },
    {
     "output_type": "display_data",
     "data": {
      "text/plain": "VBox(children=(Label(value=' 0.00MB of 0.00MB uploaded (0.00MB deduped)\\r'), FloatProgress(value=1.0, max=1.0)…",
      "application/vnd.jupyter.widget-view+json": {
       "version_major": 2,
       "version_minor": 0,
       "model_id": "86907c43022b4e41accba8e57dde6162"
      }
     },
     "metadata": {}
    },
    {
     "output_type": "display_data",
     "data": {
      "text/plain": "<IPython.core.display.HTML object>",
      "text/html": "Find user logs for this run at: <code>/home/indika/Programming/Projects/Python/Artifical-Intelligence/PyTorch/Regression/Tabular-Playground-Series-Jul-2021/wandb/run-20210707_132218-226ugq0k/logs/debug.log</code>"
     },
     "metadata": {}
    },
    {
     "output_type": "display_data",
     "data": {
      "text/plain": "<IPython.core.display.HTML object>",
      "text/html": "Find internal logs for this run at: <code>/home/indika/Programming/Projects/Python/Artifical-Intelligence/PyTorch/Regression/Tabular-Playground-Series-Jul-2021/wandb/run-20210707_132218-226ugq0k/logs/debug-internal.log</code>"
     },
     "metadata": {}
    },
    {
     "output_type": "display_data",
     "data": {
      "text/plain": "<IPython.core.display.HTML object>",
      "text/html": "<h3>Run summary:</h3><br/><style>\n    table.wandb td:nth-child(1) { padding: 0 10px; text-align: right }\n    </style><table class=\"wandb\">\n<tr><td>loss</td><td>71.97433</td></tr><tr><td>_runtime</td><td>66</td></tr><tr><td>_timestamp</td><td>1625644408</td></tr><tr><td>_step</td><td>199</td></tr><tr><td>val_accuracy</td><td>0.0</td></tr></table>"
     },
     "metadata": {}
    },
    {
     "output_type": "display_data",
     "data": {
      "text/plain": "<IPython.core.display.HTML object>",
      "text/html": "<h3>Run history:</h3><br/><style>\n    table.wandb td:nth-child(1) { padding: 0 10px; text-align: right }\n    </style><table class=\"wandb\">\n<tr><td>loss</td><td>███▇▇▇▇▇▇▆▆▆▆▆▆▅▅▅▅▅▄▄▄▄▄▄▃▃▃▃▃▂▂▂▂▂▂▁▁▁</td></tr><tr><td>_runtime</td><td>▁▁▁▁▂▂▂▂▂▃▃▃▃▃▃▄▄▄▄▄▅▅▅▅▅▆▆▆▆▆▆▇▇▇▇▇████</td></tr><tr><td>_timestamp</td><td>▁▁▁▁▂▂▂▂▂▃▃▃▃▃▃▄▄▄▄▄▅▅▅▅▅▆▆▆▆▆▆▇▇▇▇▇████</td></tr><tr><td>_step</td><td>▁▁▁▁▂▂▂▂▂▃▃▃▃▃▃▄▄▄▄▄▅▅▅▅▅▅▆▆▆▆▆▇▇▇▇▇▇███</td></tr><tr><td>val_accuracy</td><td>▁▁▁▁▁▁██▆▃▂▅▁▂▁▂▂▁▁▂▁▂▁▂▁▂▂▁▂▂▁▂▁▅▁▁▁▂▁▁</td></tr></table><br/>"
     },
     "metadata": {}
    },
    {
     "output_type": "display_data",
     "data": {
      "text/plain": "<IPython.core.display.HTML object>",
      "text/html": "Synced 6 W&B file(s), 0 media file(s), 0 artifact file(s) and 1 other file(s)"
     },
     "metadata": {}
    },
    {
     "output_type": "display_data",
     "data": {
      "text/plain": "<IPython.core.display.HTML object>",
      "text/html": "\n                    <br/>Synced <strong style=\"color:#cdcd00\">final-100-min</strong>: <a href=\"https://wandb.ai/ranuga-d/July-Tabular/runs/226ugq0k\" target=\"_blank\">https://wandb.ai/ranuga-d/July-Tabular/runs/226ugq0k</a><br/>\n                "
     },
     "metadata": {}
    },
    {
     "output_type": "display_data",
     "data": {
      "text/plain": "<IPython.core.display.HTML object>",
      "text/html": "...Successfully finished last run (ID:226ugq0k). Initializing new run:<br/><br/>"
     },
     "metadata": {}
    },
    {
     "output_type": "display_data",
     "data": {
      "text/plain": "<IPython.core.display.HTML object>",
      "text/html": "\n                Tracking run with wandb version 0.10.33<br/>\n                Syncing run <strong style=\"color:#cdcd00\">final-100-max</strong> to <a href=\"https://wandb.ai\" target=\"_blank\">Weights & Biases</a> <a href=\"https://docs.wandb.com/integrations/jupyter.html\" target=\"_blank\">(Documentation)</a>.<br/>\n                Project page: <a href=\"https://wandb.ai/ranuga-d/July-Tabular\" target=\"_blank\">https://wandb.ai/ranuga-d/July-Tabular</a><br/>\n                Run page: <a href=\"https://wandb.ai/ranuga-d/July-Tabular/runs/1r98tstm\" target=\"_blank\">https://wandb.ai/ranuga-d/July-Tabular/runs/1r98tstm</a><br/>\n                Run data is saved locally in <code>/home/indika/Programming/Projects/Python/Artifical-Intelligence/PyTorch/Regression/Tabular-Playground-Series-Jul-2021/wandb/run-20210707_132435-1r98tstm</code><br/><br/>\n            "
     },
     "metadata": {}
    },
    {
     "output_type": "stream",
     "name": "stderr",
     "text": [
      "100%|██████████| 100/100 [00:55<00:00,  1.81it/s]\n"
     ]
    }
   ],
   "source": [
    "config = analysis.get_best_config(metric=\"accuracy\", mode=\"max\")\n",
    "config['epochs'] = 100\n",
    "model = train(config,False,f'final-{config[\"epochs\"]}-max')"
   ]
  },
  {
   "cell_type": "code",
   "execution_count": 107,
   "metadata": {},
   "outputs": [],
   "source": [
    "test_df = pd.read_csv('./test.csv')"
   ]
  },
  {
   "cell_type": "code",
   "execution_count": 108,
   "id": "6afc94da-3ed6-4be6-9622-91b45b3d8e35",
   "metadata": {},
   "outputs": [],
   "source": [
    "dates = []\n",
    "times = []\n",
    "for date_time in test_df['date_time']:\n",
    "    date,time = date_time.split(' ')\n",
    "    time = time.replace(':','')\n",
    "    date = date.replace('-','')\n",
    "    dates.append(date)\n",
    "    times.append(time)"
   ]
  },
  {
   "cell_type": "code",
   "execution_count": 109,
   "id": "c076d4df-1f18-464e-9b9a-5d763a53ff0b",
   "metadata": {},
   "outputs": [],
   "source": [
    "test_df['date'] = dates\n",
    "test_df['time'] = times\n",
    "test_df['date'] = test_df['date'].astype(int)\n",
    "test_df['time'] = test_df['time'].astype(int)"
   ]
  },
  {
   "cell_type": "code",
   "execution_count": 110,
   "id": "d131e78e-c5c0-47ed-b2dc-9415ba903a70",
   "metadata": {},
   "outputs": [],
   "source": [
    "date_time = test_df['date_time']"
   ]
  },
  {
   "cell_type": "code",
   "execution_count": 111,
   "id": "9f899c3e-20b2-403a-90fc-e22dcd594e75",
   "metadata": {},
   "outputs": [],
   "source": [
    "del test_df['date_time']"
   ]
  },
  {
   "cell_type": "code",
   "execution_count": 112,
   "id": "43aac480-3213-4cc8-9370-828f1887a0de",
   "metadata": {},
   "outputs": [],
   "source": [
    "test_df = np.array(test_df)"
   ]
  },
  {
   "cell_type": "code",
   "execution_count": 113,
   "id": "e4207005-d021-488c-bdf4-4b38e538aa39",
   "metadata": {},
   "outputs": [],
   "source": [
    "preds = model(torch.tensor(test_df).to(device).float())"
   ]
  },
  {
   "cell_type": "code",
   "execution_count": 114,
   "id": "097d2f7c-8c22-4c8e-b69d-aa7693626c78",
   "metadata": {},
   "outputs": [
    {
     "output_type": "execute_result",
     "data": {
      "text/plain": [
       "      target_carbon_monoxide  target_benzene  target_nitrogen_oxides\n",
       "7004                     1.5             5.2                   171.2\n",
       "3634                     0.5             2.0                    23.5\n",
       "367                      1.4             4.6                    81.4\n",
       "4039                     0.9             4.8                    36.1\n",
       "1803                     0.7             5.0                    67.9\n",
       "...                      ...             ...                     ...\n",
       "4876                     1.8            11.6                   263.9\n",
       "2225                     2.0            11.7                   137.2\n",
       "339                      2.6             8.9                   165.6\n",
       "2480                     0.4             2.0                    23.3\n",
       "7012                     1.6             6.2                   244.4\n",
       "\n",
       "[6222 rows x 3 columns]"
      ],
      "text/html": "<div>\n<style scoped>\n    .dataframe tbody tr th:only-of-type {\n        vertical-align: middle;\n    }\n\n    .dataframe tbody tr th {\n        vertical-align: top;\n    }\n\n    .dataframe thead th {\n        text-align: right;\n    }\n</style>\n<table border=\"1\" class=\"dataframe\">\n  <thead>\n    <tr style=\"text-align: right;\">\n      <th></th>\n      <th>target_carbon_monoxide</th>\n      <th>target_benzene</th>\n      <th>target_nitrogen_oxides</th>\n    </tr>\n  </thead>\n  <tbody>\n    <tr>\n      <th>7004</th>\n      <td>1.5</td>\n      <td>5.2</td>\n      <td>171.2</td>\n    </tr>\n    <tr>\n      <th>3634</th>\n      <td>0.5</td>\n      <td>2.0</td>\n      <td>23.5</td>\n    </tr>\n    <tr>\n      <th>367</th>\n      <td>1.4</td>\n      <td>4.6</td>\n      <td>81.4</td>\n    </tr>\n    <tr>\n      <th>4039</th>\n      <td>0.9</td>\n      <td>4.8</td>\n      <td>36.1</td>\n    </tr>\n    <tr>\n      <th>1803</th>\n      <td>0.7</td>\n      <td>5.0</td>\n      <td>67.9</td>\n    </tr>\n    <tr>\n      <th>...</th>\n      <td>...</td>\n      <td>...</td>\n      <td>...</td>\n    </tr>\n    <tr>\n      <th>4876</th>\n      <td>1.8</td>\n      <td>11.6</td>\n      <td>263.9</td>\n    </tr>\n    <tr>\n      <th>2225</th>\n      <td>2.0</td>\n      <td>11.7</td>\n      <td>137.2</td>\n    </tr>\n    <tr>\n      <th>339</th>\n      <td>2.6</td>\n      <td>8.9</td>\n      <td>165.6</td>\n    </tr>\n    <tr>\n      <th>2480</th>\n      <td>0.4</td>\n      <td>2.0</td>\n      <td>23.3</td>\n    </tr>\n    <tr>\n      <th>7012</th>\n      <td>1.6</td>\n      <td>6.2</td>\n      <td>244.4</td>\n    </tr>\n  </tbody>\n</table>\n<p>6222 rows × 3 columns</p>\n</div>"
     },
     "metadata": {},
     "execution_count": 114
    }
   ],
   "source": [
    "y_train"
   ]
  },
  {
   "cell_type": "code",
   "execution_count": 115,
   "id": "c879b4b6-497b-4211-b2d5-0ba78c35c9b6",
   "metadata": {},
   "outputs": [],
   "source": [
    "target_carbon_monoxides = []\n",
    "target_benzenes = []\n",
    "target_nitrogen_oxides = []\n",
    "for pred in preds:\n",
    "    target_carbon_monoxides.append(float(pred[0].cpu()))\n",
    "    target_benzenes.append(float(pred[1].cpu()))\n",
    "    target_nitrogen_oxides.append(float(pred[2].cpu()))"
   ]
  },
  {
   "cell_type": "code",
   "execution_count": 116,
   "id": "ab52656b-6847-4b84-8141-e3afdd8b3c3c",
   "metadata": {},
   "outputs": [],
   "source": [
    "submission = pd.DataFrame({'date_time':date_time,'target_carbon_monoxide':target_carbon_monoxides,'target_benzene':target_benzenes,'target_nitrogen_oxides':target_nitrogen_oxides})"
   ]
  },
  {
   "cell_type": "code",
   "execution_count": 117,
   "id": "67e77044-fcdb-4f55-9f11-e9bc94cb5bcd",
   "metadata": {},
   "outputs": [],
   "source": [
    "submission.to_csv('./sub-0.csv',index=False)"
   ]
  },
  {
   "cell_type": "code",
   "execution_count": null,
   "id": "adf06656-ef33-4096-b62d-08968b1a7782",
   "metadata": {},
   "outputs": [],
   "source": []
  },
  {
   "cell_type": "code",
   "execution_count": null,
   "metadata": {},
   "outputs": [],
   "source": []
  }
 ],
 "metadata": {
  "kernelspec": {
   "name": "python3",
   "display_name": "Python 3.7.7 64-bit ('base': conda)"
  },
  "language_info": {
   "codemirror_mode": {
    "name": "ipython",
    "version": 3
   },
   "file_extension": ".py",
   "mimetype": "text/x-python",
   "name": "python",
   "nbconvert_exporter": "python",
   "pygments_lexer": "ipython3",
   "version": "3.7.7"
  },
  "interpreter": {
   "hash": "210f9608a45c0278a93c9e0b10db32a427986ab48cfc0d20c139811eb78c4bbc"
  }
 },
 "nbformat": 4,
 "nbformat_minor": 5
}